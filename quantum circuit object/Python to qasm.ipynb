{
 "cells": [
  {
   "cell_type": "code",
   "execution_count": 1,
   "metadata": {},
   "outputs": [],
   "source": [
    "from qiskit import QuantumCircuit"
   ]
  },
  {
   "cell_type": "code",
   "execution_count": 2,
   "metadata": {},
   "outputs": [],
   "source": [
    "from circuit_grid import CircuitGridModel, CircuitGridNode\n",
    "import circuit_node_types as node_types\n",
    "from sympy import pi\n",
    "import logging"
   ]
  },
  {
   "cell_type": "code",
   "execution_count": 3,
   "metadata": {},
   "outputs": [],
   "source": [
    "id_gate = CircuitGridNode(node_types.ID)\n",
    "x_gate = CircuitGridNode(node_types.X, 1)\n",
    "y_gate = CircuitGridNode(node_types.Y, 1)\n",
    "z_gate = CircuitGridNode(node_types.Z, 1)\n",
    "h_gate = CircuitGridNode(node_types.H, 1)\n",
    "s_gate = CircuitGridNode(node_types.S, 1)\n",
    "sdg_gate = CircuitGridNode(node_types.SDG, 1)\n",
    "t_gate = CircuitGridNode(node_types.T, 1)\n",
    "tdg_gate = CircuitGridNode(node_types.TDG, 1)\n",
    "\n",
    "u1_gate = CircuitGridNode(node_types.U1, 1, theta=pi)\n",
    "u2_gate = CircuitGridNode(node_types.U2, 1, theta=pi, phi=pi)\n",
    "u3_gate = CircuitGridNode(node_types.U3, 1, theta=pi, phi=pi, lam=pi)\n",
    "\n",
    "rx_gate = CircuitGridNode(node_types.RX, 1, theta=pi)\n",
    "ry_gate = CircuitGridNode(node_types.RY, 1, theta=pi)\n",
    "rz_gate = CircuitGridNode(node_types.RZ, 1, theta=pi)\n",
    "\n",
    "cx_gate = CircuitGridNode(node_types.CX, 1, ctrl_a=0)\n",
    "cy_gate = CircuitGridNode(node_types.CY, 2, ctrl_a=1)\n",
    "cz_gate = CircuitGridNode(node_types.CZ, 3, ctrl_a=2)\n",
    "ch_gate = CircuitGridNode(node_types.CH, 4, ctrl_a=3)\n",
    "crz_gate = CircuitGridNode(node_types.CRZ, 1, theta=pi, ctrl_a=0)\n",
    "\n",
    "cu1_gate = CircuitGridNode(node_types.CU1, 1, theta=pi, ctrl_a=0)\n",
    "cu3_gate = CircuitGridNode(node_types.CU3, 1, theta=pi, phi=pi, lam=pi, ctrl_a=0)\n",
    "\n",
    "ccx_gate = CircuitGridNode(node_types.CCX, 2, ctrl_a=0, ctrl_b=1)\n",
    "\n",
    "swap_gate = CircuitGridNode(node_types.SWAP, 1, swap=2)\n",
    "cswap_gate = CircuitGridNode(node_types.CSWAP, 1, ctrl_a=0, swap=2)\n",
    "\n",
    "barrier = CircuitGridNode(node_types.BARRIER, 1)\n",
    "measure_z = CircuitGridNode(node_types.MEASURE_Z, 1)\n",
    "reset = CircuitGridNode(node_types.RESET, 1)\n",
    "_if = CircuitGridNode(node_types.IF, 1)"
   ]
  },
  {
   "cell_type": "code",
   "execution_count": 4,
   "metadata": {},
   "outputs": [],
   "source": [
    "gates = [\n",
    "    id_gate,\n",
    "    x_gate,\n",
    "    y_gate,\n",
    "    z_gate,\n",
    "    h_gate,\n",
    "    s_gate,\n",
    "    sdg_gate,\n",
    "    t_gate,\n",
    "    tdg_gate,\n",
    "    \n",
    "    u1_gate,\n",
    "    u2_gate,\n",
    "    u3_gate,\n",
    "    \n",
    "    rx_gate,\n",
    "    ry_gate,\n",
    "    rz_gate,\n",
    "    \n",
    "    cx_gate,\n",
    "    cy_gate,\n",
    "    cz_gate,\n",
    "    ch_gate,\n",
    "    crz_gate,\n",
    "    \n",
    "    cu1_gate,\n",
    "    cu3_gate,\n",
    "    \n",
    "    ccx_gate,\n",
    "    \n",
    "    swap_gate,\n",
    "    cswap_gate,\n",
    "    \n",
    "    barrier,\n",
    "    measure_z,\n",
    "    reset,\n",
    "    _if\n",
    "]"
   ]
  },
  {
   "cell_type": "code",
   "execution_count": 5,
   "metadata": {},
   "outputs": [
    {
     "name": "stdout",
     "output_type": "stream",
     "text": [
      "type: id\n",
      "type: x, qubit index: 1\n",
      "type: y, qubit index: 1\n",
      "type: z, qubit index: 1\n",
      "type: h, qubit index: 1\n",
      "type: s, qubit index: 1\n",
      "type: sdg, qubit index: 1\n",
      "type: t, qubit index: 1\n",
      "type: tdg, qubit index: 1\n",
      "type: u1, qubit index: 1, theta: pi\n",
      "type: u2, qubit index: 1, theta: pi, phi: pi\n",
      "type: u3, qubit index: 1, theta: pi, phi: pi, lam: pi\n",
      "type: rx, qubit index: 1, theta: pi\n",
      "type: ry, qubit index: 1, theta: pi\n",
      "type: rz, qubit index: 1, theta: pi\n",
      "type: cx, qubit index: 1, ctrl_a: 0\n",
      "type: cy, qubit index: 2, ctrl_a: 1\n",
      "type: cz, qubit index: 3, ctrl_a: 2\n",
      "type: ch, qubit index: 4, ctrl_a: 3\n",
      "type: crz, qubit index: 1, theta: pi, ctrl_a: 0\n",
      "type: cu1, qubit index: 1, theta: pi, ctrl_a: 0\n",
      "type: cu3, qubit index: 1, theta: pi, phi: pi, lam: pi, ctrl_a: 0\n",
      "type: ccx, qubit index: 2, ctrl_a: 0, ctrl_b: 1\n",
      "type: swap, qubit index: 1, swap: 2\n",
      "type: cswap, qubit index: 1, ctrl_a: 0, swap: 2\n",
      "type: barrier, qubit index: 1\n",
      "type: measure, qubit index: 1\n",
      "type: reset, qubit index: 1\n",
      "type: if, qubit index: 1\n"
     ]
    }
   ],
   "source": [
    "for gate in gates:\n",
    "    print(gate)"
   ]
  },
  {
   "cell_type": "code",
   "execution_count": 6,
   "metadata": {},
   "outputs": [
    {
     "name": "stdout",
     "output_type": "stream",
     "text": [
      "id q[None];\n",
      "x q[1];\n",
      "y q[1];\n",
      "z q[1];\n",
      "h q[1];\n",
      "s q[1];\n",
      "sdg q[1];\n",
      "t q[1];\n",
      "tdg q[1];\n",
      "u1(pi) q[1];\n",
      "u2(pi,pi) q[1];\n",
      "u3(pi,pi,pi) q[1];\n",
      "rx(pi) q[1];\n",
      "ry(pi) q[1];\n",
      "rz(pi) q[1];\n",
      "cx q[0],q[1];\n",
      "cy q[1],q[2];\n",
      "cz q[2],q[3];\n",
      "ch q[3],q[4];\n",
      "crz(pi) q[0],q[1];\n",
      "cu1(pi) q[0],q[1];\n",
      "cu3(pi,pi,pi) q[0],q[1];\n",
      "ccx q[0],q[1],q[2];\n",
      "swap q[2],q[1];\n",
      "cswap q[0],q[2],q[1];\n",
      "barrier q[1];\n",
      "measure q[1] -> c[1];\n",
      "reset q[1];\n",
      "if q[1];\n"
     ]
    }
   ],
   "source": [
    "for gate in gates:\n",
    "    print(gate.qasm())"
   ]
  },
  {
   "cell_type": "code",
   "execution_count": 7,
   "metadata": {},
   "outputs": [
    {
     "name": "stdout",
     "output_type": "stream",
     "text": [
      "CircuitGridModel: \n",
      "e, e, e, e, e, e, e, \n",
      "e, e, e, e, e, e, e, \n",
      "e, e, e, e, e, e, e, \n",
      "e, e, e, e, e, e, e, \n"
     ]
    }
   ],
   "source": [
    "circuit_grid = CircuitGridModel(4,7)\n",
    "print(circuit_grid)"
   ]
  },
  {
   "cell_type": "code",
   "execution_count": 8,
   "metadata": {},
   "outputs": [
    {
     "name": "stdout",
     "output_type": "stream",
     "text": [
      "type: id\n"
     ]
    }
   ],
   "source": [
    "print(gates[0])"
   ]
  },
  {
   "cell_type": "code",
   "execution_count": 9,
   "metadata": {},
   "outputs": [],
   "source": [
    "for j in range(circuit_grid.circuit_depth):\n",
    "    for i in range(circuit_grid.qubit_count):\n",
    "        circuit_grid.set_node(i,j,gates[j*circuit_grid.qubit_count + i])"
   ]
  },
  {
   "cell_type": "code",
   "execution_count": 10,
   "metadata": {},
   "outputs": [
    {
     "name": "stdout",
     "output_type": "stream",
     "text": [
      "OPENQASM 2.0;include \"qelib1.inc\";qreg q[4];qreg c[4];id q;id q[0];x q[1];y q[2];z q[3];h q[0];s q[1];sdg q[2];t q[3];tdg q[0];u1(pi) q[1];u2(pi,pi) q[2];u3(pi,pi,pi) q[3];ry(pi) q[1];rz(pi) q[2];cx q[0],q[3];cz q[2],q[1];ch q[3],q[2];crz(pi) q[0],q[3];ccx q[0],q[1],q[2];swap q[2],q[3];barrier q[1];measure q[2] -> c[2];reset q[3];\n"
     ]
    }
   ],
   "source": [
    "qasm_str = circuit_grid.create_qasm_for_circuit()\n",
    "print(qasm_str)"
   ]
  },
  {
   "cell_type": "code",
   "execution_count": 11,
   "metadata": {},
   "outputs": [
    {
     "ename": "QasmError",
     "evalue": "\"Type for 'c' should be 'creg' but was found to be 'qreg' line 1 file \"",
     "output_type": "error",
     "traceback": [
      "\u001b[0;31m---------------------------------------------------------------------------\u001b[0m",
      "\u001b[0;31mQasmError\u001b[0m                                 Traceback (most recent call last)",
      "\u001b[0;32m<ipython-input-11-a7e8784c6790>\u001b[0m in \u001b[0;36m<module>\u001b[0;34m\u001b[0m\n\u001b[0;32m----> 1\u001b[0;31m \u001b[0mqc\u001b[0m \u001b[0;34m=\u001b[0m \u001b[0mQuantumCircuit\u001b[0m\u001b[0;34m.\u001b[0m\u001b[0mfrom_qasm_str\u001b[0m\u001b[0;34m(\u001b[0m\u001b[0mqasm_str\u001b[0m\u001b[0;34m)\u001b[0m\u001b[0;34m\u001b[0m\u001b[0;34m\u001b[0m\u001b[0m\n\u001b[0m",
      "\u001b[0;32m/usr/local/lib/python3.7/site-packages/qiskit/circuit/quantumcircuit.py\u001b[0m in \u001b[0;36mfrom_qasm_str\u001b[0;34m(qasm_str)\u001b[0m\n\u001b[1;32m    846\u001b[0m         \"\"\"\n\u001b[1;32m    847\u001b[0m         \u001b[0mqasm\u001b[0m \u001b[0;34m=\u001b[0m \u001b[0mQasm\u001b[0m\u001b[0;34m(\u001b[0m\u001b[0mdata\u001b[0m\u001b[0;34m=\u001b[0m\u001b[0mqasm_str\u001b[0m\u001b[0;34m)\u001b[0m\u001b[0;34m\u001b[0m\u001b[0;34m\u001b[0m\u001b[0m\n\u001b[0;32m--> 848\u001b[0;31m         \u001b[0;32mreturn\u001b[0m \u001b[0m_circuit_from_qasm\u001b[0m\u001b[0;34m(\u001b[0m\u001b[0mqasm\u001b[0m\u001b[0;34m)\u001b[0m\u001b[0;34m\u001b[0m\u001b[0;34m\u001b[0m\u001b[0m\n\u001b[0m\u001b[1;32m    849\u001b[0m \u001b[0;34m\u001b[0m\u001b[0m\n\u001b[1;32m    850\u001b[0m     \u001b[0;34m@\u001b[0m\u001b[0mproperty\u001b[0m\u001b[0;34m\u001b[0m\u001b[0;34m\u001b[0m\u001b[0m\n",
      "\u001b[0;32m/usr/local/lib/python3.7/site-packages/qiskit/circuit/quantumcircuit.py\u001b[0m in \u001b[0;36m_circuit_from_qasm\u001b[0;34m(qasm)\u001b[0m\n\u001b[1;32m    913\u001b[0m     \u001b[0;32mfrom\u001b[0m \u001b[0mqiskit\u001b[0m\u001b[0;34m.\u001b[0m\u001b[0mconverters\u001b[0m \u001b[0;32mimport\u001b[0m \u001b[0mast_to_dag\u001b[0m\u001b[0;34m\u001b[0m\u001b[0;34m\u001b[0m\u001b[0m\n\u001b[1;32m    914\u001b[0m     \u001b[0;32mfrom\u001b[0m \u001b[0mqiskit\u001b[0m\u001b[0;34m.\u001b[0m\u001b[0mconverters\u001b[0m \u001b[0;32mimport\u001b[0m \u001b[0mdag_to_circuit\u001b[0m\u001b[0;34m\u001b[0m\u001b[0;34m\u001b[0m\u001b[0m\n\u001b[0;32m--> 915\u001b[0;31m     \u001b[0mast\u001b[0m \u001b[0;34m=\u001b[0m \u001b[0mqasm\u001b[0m\u001b[0;34m.\u001b[0m\u001b[0mparse\u001b[0m\u001b[0;34m(\u001b[0m\u001b[0;34m)\u001b[0m\u001b[0;34m\u001b[0m\u001b[0;34m\u001b[0m\u001b[0m\n\u001b[0m\u001b[1;32m    916\u001b[0m     \u001b[0mdag\u001b[0m \u001b[0;34m=\u001b[0m \u001b[0mast_to_dag\u001b[0m\u001b[0;34m(\u001b[0m\u001b[0mast\u001b[0m\u001b[0;34m)\u001b[0m\u001b[0;34m\u001b[0m\u001b[0;34m\u001b[0m\u001b[0m\n\u001b[1;32m    917\u001b[0m     \u001b[0;32mreturn\u001b[0m \u001b[0mdag_to_circuit\u001b[0m\u001b[0;34m(\u001b[0m\u001b[0mdag\u001b[0m\u001b[0;34m)\u001b[0m\u001b[0;34m\u001b[0m\u001b[0;34m\u001b[0m\u001b[0m\n",
      "\u001b[0;32m/usr/local/lib/python3.7/site-packages/qiskit/qasm/qasm.py\u001b[0m in \u001b[0;36mparse\u001b[0;34m(self)\u001b[0m\n\u001b[1;32m     67\u001b[0m         \u001b[0;32mwith\u001b[0m \u001b[0mQasmParser\u001b[0m\u001b[0;34m(\u001b[0m\u001b[0mself\u001b[0m\u001b[0;34m.\u001b[0m\u001b[0m_filename\u001b[0m\u001b[0;34m)\u001b[0m \u001b[0;32mas\u001b[0m \u001b[0mqasm_p\u001b[0m\u001b[0;34m:\u001b[0m\u001b[0;34m\u001b[0m\u001b[0;34m\u001b[0m\u001b[0m\n\u001b[1;32m     68\u001b[0m             \u001b[0mqasm_p\u001b[0m\u001b[0;34m.\u001b[0m\u001b[0mparse_debug\u001b[0m\u001b[0;34m(\u001b[0m\u001b[0;32mFalse\u001b[0m\u001b[0;34m)\u001b[0m\u001b[0;34m\u001b[0m\u001b[0;34m\u001b[0m\u001b[0m\n\u001b[0;32m---> 69\u001b[0;31m             \u001b[0;32mreturn\u001b[0m \u001b[0mqasm_p\u001b[0m\u001b[0;34m.\u001b[0m\u001b[0mparse\u001b[0m\u001b[0;34m(\u001b[0m\u001b[0mself\u001b[0m\u001b[0;34m.\u001b[0m\u001b[0m_data\u001b[0m\u001b[0;34m)\u001b[0m\u001b[0;34m\u001b[0m\u001b[0;34m\u001b[0m\u001b[0m\n\u001b[0m",
      "\u001b[0;32m/usr/local/lib/python3.7/site-packages/qiskit/qasm/qasmparser.py\u001b[0m in \u001b[0;36mparse\u001b[0;34m(self, data)\u001b[0m\n\u001b[1;32m   1087\u001b[0m     \u001b[0;32mdef\u001b[0m \u001b[0mparse\u001b[0m\u001b[0;34m(\u001b[0m\u001b[0mself\u001b[0m\u001b[0;34m,\u001b[0m \u001b[0mdata\u001b[0m\u001b[0;34m)\u001b[0m\u001b[0;34m:\u001b[0m\u001b[0;34m\u001b[0m\u001b[0;34m\u001b[0m\u001b[0m\n\u001b[1;32m   1088\u001b[0m         \u001b[0;34m\"\"\"Parse some data.\"\"\"\u001b[0m\u001b[0;34m\u001b[0m\u001b[0;34m\u001b[0m\u001b[0m\n\u001b[0;32m-> 1089\u001b[0;31m         \u001b[0mself\u001b[0m\u001b[0;34m.\u001b[0m\u001b[0mparser\u001b[0m\u001b[0;34m.\u001b[0m\u001b[0mparse\u001b[0m\u001b[0;34m(\u001b[0m\u001b[0mdata\u001b[0m\u001b[0;34m,\u001b[0m \u001b[0mlexer\u001b[0m\u001b[0;34m=\u001b[0m\u001b[0mself\u001b[0m\u001b[0;34m.\u001b[0m\u001b[0mlexer\u001b[0m\u001b[0;34m,\u001b[0m \u001b[0mdebug\u001b[0m\u001b[0;34m=\u001b[0m\u001b[0mself\u001b[0m\u001b[0;34m.\u001b[0m\u001b[0mparse_deb\u001b[0m\u001b[0;34m)\u001b[0m\u001b[0;34m\u001b[0m\u001b[0;34m\u001b[0m\u001b[0m\n\u001b[0m\u001b[1;32m   1090\u001b[0m         \u001b[0;32mif\u001b[0m \u001b[0mself\u001b[0m\u001b[0;34m.\u001b[0m\u001b[0mqasm\u001b[0m \u001b[0;32mis\u001b[0m \u001b[0;32mNone\u001b[0m\u001b[0;34m:\u001b[0m\u001b[0;34m\u001b[0m\u001b[0;34m\u001b[0m\u001b[0m\n\u001b[1;32m   1091\u001b[0m             raise QasmError(\"Uncaught exception in parser; \"\n",
      "\u001b[0;32m/usr/local/lib/python3.7/site-packages/ply/yacc.py\u001b[0m in \u001b[0;36mparse\u001b[0;34m(self, input, lexer, debug, tracking, tokenfunc)\u001b[0m\n\u001b[1;32m    331\u001b[0m             \u001b[0;32mreturn\u001b[0m \u001b[0mself\u001b[0m\u001b[0;34m.\u001b[0m\u001b[0mparseopt\u001b[0m\u001b[0;34m(\u001b[0m\u001b[0minput\u001b[0m\u001b[0;34m,\u001b[0m \u001b[0mlexer\u001b[0m\u001b[0;34m,\u001b[0m \u001b[0mdebug\u001b[0m\u001b[0;34m,\u001b[0m \u001b[0mtracking\u001b[0m\u001b[0;34m,\u001b[0m \u001b[0mtokenfunc\u001b[0m\u001b[0;34m)\u001b[0m\u001b[0;34m\u001b[0m\u001b[0;34m\u001b[0m\u001b[0m\n\u001b[1;32m    332\u001b[0m         \u001b[0;32melse\u001b[0m\u001b[0;34m:\u001b[0m\u001b[0;34m\u001b[0m\u001b[0;34m\u001b[0m\u001b[0m\n\u001b[0;32m--> 333\u001b[0;31m             \u001b[0;32mreturn\u001b[0m \u001b[0mself\u001b[0m\u001b[0;34m.\u001b[0m\u001b[0mparseopt_notrack\u001b[0m\u001b[0;34m(\u001b[0m\u001b[0minput\u001b[0m\u001b[0;34m,\u001b[0m \u001b[0mlexer\u001b[0m\u001b[0;34m,\u001b[0m \u001b[0mdebug\u001b[0m\u001b[0;34m,\u001b[0m \u001b[0mtracking\u001b[0m\u001b[0;34m,\u001b[0m \u001b[0mtokenfunc\u001b[0m\u001b[0;34m)\u001b[0m\u001b[0;34m\u001b[0m\u001b[0;34m\u001b[0m\u001b[0m\n\u001b[0m\u001b[1;32m    334\u001b[0m \u001b[0;34m\u001b[0m\u001b[0m\n\u001b[1;32m    335\u001b[0m \u001b[0;34m\u001b[0m\u001b[0m\n",
      "\u001b[0;32m/usr/local/lib/python3.7/site-packages/ply/yacc.py\u001b[0m in \u001b[0;36mparseopt_notrack\u001b[0;34m(self, input, lexer, debug, tracking, tokenfunc)\u001b[0m\n\u001b[1;32m   1118\u001b[0m                             \u001b[0;32mdel\u001b[0m \u001b[0msymstack\u001b[0m\u001b[0;34m[\u001b[0m\u001b[0;34m-\u001b[0m\u001b[0mplen\u001b[0m\u001b[0;34m:\u001b[0m\u001b[0;34m]\u001b[0m\u001b[0;34m\u001b[0m\u001b[0;34m\u001b[0m\u001b[0m\n\u001b[1;32m   1119\u001b[0m                             \u001b[0mself\u001b[0m\u001b[0;34m.\u001b[0m\u001b[0mstate\u001b[0m \u001b[0;34m=\u001b[0m \u001b[0mstate\u001b[0m\u001b[0;34m\u001b[0m\u001b[0;34m\u001b[0m\u001b[0m\n\u001b[0;32m-> 1120\u001b[0;31m                             \u001b[0mp\u001b[0m\u001b[0;34m.\u001b[0m\u001b[0mcallable\u001b[0m\u001b[0;34m(\u001b[0m\u001b[0mpslice\u001b[0m\u001b[0;34m)\u001b[0m\u001b[0;34m\u001b[0m\u001b[0;34m\u001b[0m\u001b[0m\n\u001b[0m\u001b[1;32m   1121\u001b[0m                             \u001b[0;32mdel\u001b[0m \u001b[0mstatestack\u001b[0m\u001b[0;34m[\u001b[0m\u001b[0;34m-\u001b[0m\u001b[0mplen\u001b[0m\u001b[0;34m:\u001b[0m\u001b[0;34m]\u001b[0m\u001b[0;34m\u001b[0m\u001b[0;34m\u001b[0m\u001b[0m\n\u001b[1;32m   1122\u001b[0m                             \u001b[0msymstack\u001b[0m\u001b[0;34m.\u001b[0m\u001b[0mappend\u001b[0m\u001b[0;34m(\u001b[0m\u001b[0msym\u001b[0m\u001b[0;34m)\u001b[0m\u001b[0;34m\u001b[0m\u001b[0;34m\u001b[0m\u001b[0m\n",
      "\u001b[0;32m/usr/local/lib/python3.7/site-packages/qiskit/qasm/qasmparser.py\u001b[0m in \u001b[0;36mp_measure\u001b[0;34m(self, program)\u001b[0m\n\u001b[1;32m    838\u001b[0m         \u001b[0mprogram\u001b[0m\u001b[0;34m[\u001b[0m\u001b[0;36m0\u001b[0m\u001b[0;34m]\u001b[0m \u001b[0;34m=\u001b[0m \u001b[0mnode\u001b[0m\u001b[0;34m.\u001b[0m\u001b[0mMeasure\u001b[0m\u001b[0;34m(\u001b[0m\u001b[0;34m[\u001b[0m\u001b[0mprogram\u001b[0m\u001b[0;34m[\u001b[0m\u001b[0;36m2\u001b[0m\u001b[0;34m]\u001b[0m\u001b[0;34m,\u001b[0m \u001b[0mprogram\u001b[0m\u001b[0;34m[\u001b[0m\u001b[0;36m4\u001b[0m\u001b[0;34m]\u001b[0m\u001b[0;34m]\u001b[0m\u001b[0;34m)\u001b[0m\u001b[0;34m\u001b[0m\u001b[0;34m\u001b[0m\u001b[0m\n\u001b[1;32m    839\u001b[0m         \u001b[0mself\u001b[0m\u001b[0;34m.\u001b[0m\u001b[0mverify_reg\u001b[0m\u001b[0;34m(\u001b[0m\u001b[0mprogram\u001b[0m\u001b[0;34m[\u001b[0m\u001b[0;36m2\u001b[0m\u001b[0;34m]\u001b[0m\u001b[0;34m,\u001b[0m \u001b[0;34m'qreg'\u001b[0m\u001b[0;34m)\u001b[0m\u001b[0;34m\u001b[0m\u001b[0;34m\u001b[0m\u001b[0m\n\u001b[0;32m--> 840\u001b[0;31m         \u001b[0mself\u001b[0m\u001b[0;34m.\u001b[0m\u001b[0mverify_reg\u001b[0m\u001b[0;34m(\u001b[0m\u001b[0mprogram\u001b[0m\u001b[0;34m[\u001b[0m\u001b[0;36m4\u001b[0m\u001b[0;34m]\u001b[0m\u001b[0;34m,\u001b[0m \u001b[0;34m'creg'\u001b[0m\u001b[0;34m)\u001b[0m\u001b[0;34m\u001b[0m\u001b[0;34m\u001b[0m\u001b[0m\n\u001b[0m\u001b[1;32m    841\u001b[0m \u001b[0;34m\u001b[0m\u001b[0m\n\u001b[1;32m    842\u001b[0m     \u001b[0;32mdef\u001b[0m \u001b[0mp_measure_e\u001b[0m\u001b[0;34m(\u001b[0m\u001b[0mself\u001b[0m\u001b[0;34m,\u001b[0m \u001b[0mprogram\u001b[0m\u001b[0;34m)\u001b[0m\u001b[0;34m:\u001b[0m\u001b[0;34m\u001b[0m\u001b[0;34m\u001b[0m\u001b[0m\n",
      "\u001b[0;32m/usr/local/lib/python3.7/site-packages/qiskit/qasm/qasmparser.py\u001b[0m in \u001b[0;36mverify_reg\u001b[0;34m(self, obj, object_type)\u001b[0m\n\u001b[1;32m    176\u001b[0m                             \u001b[0;34m+\u001b[0m \u001b[0mobject_type\u001b[0m \u001b[0;34m+\u001b[0m \u001b[0;34m\"' but was found to be '\"\u001b[0m\u001b[0;34m\u001b[0m\u001b[0;34m\u001b[0m\u001b[0m\n\u001b[1;32m    177\u001b[0m                             \u001b[0;34m+\u001b[0m \u001b[0mg_sym\u001b[0m\u001b[0;34m.\u001b[0m\u001b[0mtype\u001b[0m \u001b[0;34m+\u001b[0m \u001b[0;34m\"'\"\u001b[0m\u001b[0;34m,\u001b[0m \u001b[0;34m\"line\"\u001b[0m\u001b[0;34m,\u001b[0m \u001b[0mstr\u001b[0m\u001b[0;34m(\u001b[0m\u001b[0mobj\u001b[0m\u001b[0;34m.\u001b[0m\u001b[0mline\u001b[0m\u001b[0;34m)\u001b[0m\u001b[0;34m,\u001b[0m\u001b[0;34m\u001b[0m\u001b[0;34m\u001b[0m\u001b[0m\n\u001b[0;32m--> 178\u001b[0;31m                             \"file\", obj.file)\n\u001b[0m\u001b[1;32m    179\u001b[0m \u001b[0;34m\u001b[0m\u001b[0m\n\u001b[1;32m    180\u001b[0m         \u001b[0;32mif\u001b[0m \u001b[0mobj\u001b[0m\u001b[0;34m.\u001b[0m\u001b[0mtype\u001b[0m \u001b[0;34m==\u001b[0m \u001b[0;34m'indexed_id'\u001b[0m\u001b[0;34m:\u001b[0m\u001b[0;34m\u001b[0m\u001b[0;34m\u001b[0m\u001b[0m\n",
      "\u001b[0;31mQasmError\u001b[0m: \"Type for 'c' should be 'creg' but was found to be 'qreg' line 1 file \""
     ]
    }
   ],
   "source": [
    "qc = QuantumCircuit.from_qasm_str(qasm_str)"
   ]
  },
  {
   "cell_type": "code",
   "execution_count": null,
   "metadata": {},
   "outputs": [],
   "source": [
    "qc.draw()"
   ]
  },
  {
   "cell_type": "code",
   "execution_count": null,
   "metadata": {},
   "outputs": [],
   "source": []
  }
 ],
 "metadata": {
  "kernelspec": {
   "display_name": "Python 3",
   "language": "python",
   "name": "python3"
  },
  "language_info": {
   "codemirror_mode": {
    "name": "ipython",
    "version": 3
   },
   "file_extension": ".py",
   "mimetype": "text/x-python",
   "name": "python",
   "nbconvert_exporter": "python",
   "pygments_lexer": "ipython3",
   "version": "3.7.3"
  }
 },
 "nbformat": 4,
 "nbformat_minor": 2
}
