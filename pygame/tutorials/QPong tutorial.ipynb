{
 "cells": [
  {
   "cell_type": "markdown",
   "metadata": {},
   "source": [
    "# QPong tutorial\n",
    "In this tutorial, you will learn how to make the core features of QPong."
   ]
  },
  {
   "cell_type": "markdown",
   "metadata": {},
   "source": [
    "## Import pakcages"
   ]
  },
  {
   "cell_type": "code",
   "execution_count": 14,
   "metadata": {},
   "outputs": [],
   "source": [
    "import sys\n",
    "sys.path.append('/Users/kirais/Documents/GitHub/Qiskit-for-GameDev/pygame/')"
   ]
  },
  {
   "cell_type": "code",
   "execution_count": 2,
   "metadata": {},
   "outputs": [
    {
     "name": "stdout",
     "output_type": "stream",
     "text": [
      "pygame 1.9.4\n",
      "Hello from the pygame community. https://www.pygame.org/contribute.html\n"
     ]
    }
   ],
   "source": [
    "from qgame import CircuitGridModel, CircuitGridNode, MeasurementsHistogram\n",
    "from qgame import circuit_node_types as node_types"
   ]
  },
  {
   "cell_type": "code",
   "execution_count": 3,
   "metadata": {},
   "outputs": [],
   "source": [
    "from qiskit import QuantumCircuit"
   ]
  },
  {
   "cell_type": "markdown",
   "metadata": {},
   "source": [
    "## Initialize Circuit Grid"
   ]
  },
  {
   "cell_type": "code",
   "execution_count": 5,
   "metadata": {},
   "outputs": [
    {
     "name": "stdout",
     "output_type": "stream",
     "text": [
      "CircuitGridModel: \n",
      "e, e, e, e, e, e, \n",
      "e, e, e, e, e, e, \n",
      "e, e, e, e, e, e, \n",
      "e, e, e, e, e, e, \n"
     ]
    }
   ],
   "source": [
    "circuit_grid_model = CircuitGridModel(4, 6)\n",
    "print(circuit_grid_model)"
   ]
  },
  {
   "cell_type": "code",
   "execution_count": 21,
   "metadata": {},
   "outputs": [
    {
     "name": "stdout",
     "output_type": "stream",
     "text": [
      "OPENQASM 2.0;include \"qelib1.inc\";qreg q[4];creg c[4];id q;rx(0) q[1];h q[2];cx q[0],q[2];\n"
     ]
    }
   ],
   "source": [
    "qasm_str = circuit_grid_model.create_qasm_for_circuit()\n",
    "print(qasm_str)"
   ]
  },
  {
   "cell_type": "code",
   "execution_count": 13,
   "metadata": {},
   "outputs": [
    {
     "data": {
      "text/html": [
       "<pre style=\"word-wrap: normal;white-space: pre;background: #fff0;line-height: 1.1;font-family: &quot;Courier New&quot;,Courier,monospace\">        ┌────┐\n",
       "q_0: |0>┤ Id ├\n",
       "        ├────┤\n",
       "q_1: |0>┤ Id ├\n",
       "        ├────┤\n",
       "q_2: |0>┤ Id ├\n",
       "        ├────┤\n",
       "q_3: |0>┤ Id ├\n",
       "        └────┘\n",
       " c_0: 0 ══════\n",
       "              \n",
       " c_1: 0 ══════\n",
       "              \n",
       " c_2: 0 ══════\n",
       "              \n",
       " c_3: 0 ══════\n",
       "              </pre>"
      ],
      "text/plain": [
       "<qiskit.visualization.text.TextDrawing at 0x11e13dd68>"
      ]
     },
     "execution_count": 13,
     "metadata": {},
     "output_type": "execute_result"
    }
   ],
   "source": [
    "circuit = QuantumCircuit.from_qasm_str(qasm_str)\n",
    "circuit.draw()"
   ]
  },
  {
   "cell_type": "markdown",
   "metadata": {},
   "source": [
    "## Add gates"
   ]
  },
  {
   "cell_type": "code",
   "execution_count": 15,
   "metadata": {},
   "outputs": [
    {
     "name": "stdout",
     "output_type": "stream",
     "text": [
      "add r\n"
     ]
    }
   ],
   "source": [
    "x_gate = CircuitGridNode(node_types.X, 1)\n",
    "h_gate = CircuitGridNode(node_types.H, 1)\n",
    "cx_gate = CircuitGridNode(node_types.CX, 1, ctrl_a=0)"
   ]
  },
  {
   "cell_type": "code",
   "execution_count": 17,
   "metadata": {},
   "outputs": [],
   "source": [
    "circuit_grid_model.set_node(1,1,x_gate)\n",
    "circuit_grid_model.set_node(2,1,h_gate)\n",
    "circuit_grid_model.set_node(2,2,cx_gate)"
   ]
  },
  {
   "cell_type": "code",
   "execution_count": 20,
   "metadata": {},
   "outputs": [
    {
     "name": "stdout",
     "output_type": "stream",
     "text": [
      "OPENQASM 2.0;include \"qelib1.inc\";qreg q[4];creg c[4];id q;rx(0) q[1];h q[2];cx q[0],q[2];\n"
     ]
    }
   ],
   "source": [
    "qasm_str = circuit_grid_model.create_qasm_for_circuit()\n",
    "print(qasm_str)"
   ]
  },
  {
   "cell_type": "code",
   "execution_count": 22,
   "metadata": {},
   "outputs": [
    {
     "data": {
      "text/html": [
       "<pre style=\"word-wrap: normal;white-space: pre;background: #fff0;line-height: 1.1;font-family: &quot;Courier New&quot;,Courier,monospace\">        ┌────┐              \n",
       "q_0: |0>┤ Id ├───────────■──\n",
       "        ├────┤┌───────┐  │  \n",
       "q_1: |0>┤ Id ├┤ Rx(0) ├──┼──\n",
       "        ├────┤└─┬───┬─┘┌─┴─┐\n",
       "q_2: |0>┤ Id ├──┤ H ├──┤ X ├\n",
       "        ├────┤  └───┘  └───┘\n",
       "q_3: |0>┤ Id ├──────────────\n",
       "        └────┘              \n",
       " c_0: 0 ════════════════════\n",
       "                            \n",
       " c_1: 0 ════════════════════\n",
       "                            \n",
       " c_2: 0 ════════════════════\n",
       "                            \n",
       " c_3: 0 ════════════════════\n",
       "                            </pre>"
      ],
      "text/plain": [
       "<qiskit.visualization.text.TextDrawing at 0x11dc99a90>"
      ]
     },
     "execution_count": 22,
     "metadata": {},
     "output_type": "execute_result"
    }
   ],
   "source": [
    "circuit = QuantumCircuit.from_qasm_str(qasm_str)\n",
    "circuit.draw()"
   ]
  },
  {
   "cell_type": "code",
   "execution_count": null,
   "metadata": {},
   "outputs": [],
   "source": []
  }
 ],
 "metadata": {
  "kernelspec": {
   "display_name": "Python 3",
   "language": "python",
   "name": "python3"
  },
  "language_info": {
   "codemirror_mode": {
    "name": "ipython",
    "version": 3
   },
   "file_extension": ".py",
   "mimetype": "text/x-python",
   "name": "python",
   "nbconvert_exporter": "python",
   "pygments_lexer": "ipython3",
   "version": "3.7.3"
  }
 },
 "nbformat": 4,
 "nbformat_minor": 2
}
