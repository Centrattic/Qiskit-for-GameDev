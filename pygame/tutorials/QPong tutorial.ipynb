{
 "cells": [
  {
   "cell_type": "markdown",
   "metadata": {},
   "source": [
    "# QPong tutorial\n",
    "In this tutorial, you will learn how to make the core features of QPong."
   ]
  },
  {
   "cell_type": "markdown",
   "metadata": {},
   "source": [
    "## Import pakcages"
   ]
  },
  {
   "cell_type": "code",
   "execution_count": 1,
   "metadata": {},
   "outputs": [],
   "source": [
    "import sys\n",
    "sys.path.append('/Users/kirais/Documents/GitHub/Qiskit-for-GameDev/pygame/')"
   ]
  },
  {
   "cell_type": "code",
   "execution_count": 2,
   "metadata": {},
   "outputs": [
    {
     "name": "stdout",
     "output_type": "stream",
     "text": [
      "pygame 1.9.4\n",
      "Hello from the pygame community. https://www.pygame.org/contribute.html\n"
     ]
    }
   ],
   "source": [
    "from qgame import CircuitGridModel, CircuitGridNode, MeasurementsHistogram\n",
    "from qgame import circuit_node_types as node_types"
   ]
  },
  {
   "cell_type": "code",
   "execution_count": 3,
   "metadata": {},
   "outputs": [],
   "source": [
    "from qiskit import QuantumCircuit"
   ]
  },
  {
   "cell_type": "markdown",
   "metadata": {},
   "source": [
    "## Initialize circuit grid"
   ]
  },
  {
   "cell_type": "code",
   "execution_count": 11,
   "metadata": {},
   "outputs": [
    {
     "name": "stdout",
     "output_type": "stream",
     "text": [
      "CircuitGridModel: \n",
      "e, e, e, e, e, e, \n",
      "e, e, e, e, e, e, \n",
      "e, e, e, e, e, e, \n"
     ]
    }
   ],
   "source": [
    "circuit_grid_model = CircuitGridModel(3, 6)\n",
    "print(circuit_grid_model)"
   ]
  },
  {
   "cell_type": "code",
   "execution_count": 12,
   "metadata": {},
   "outputs": [
    {
     "name": "stdout",
     "output_type": "stream",
     "text": [
      "OPENQASM 2.0;include \"qelib1.inc\";qreg q[3];creg c[3];id q;\n"
     ]
    }
   ],
   "source": [
    "qasm_str = circuit_grid_model.create_qasm_for_circuit()\n",
    "print(qasm_str)"
   ]
  },
  {
   "cell_type": "code",
   "execution_count": 13,
   "metadata": {},
   "outputs": [
    {
     "data": {
      "text/html": [
       "<pre style=\"word-wrap: normal;white-space: pre;background: #fff0;line-height: 1.1;font-family: &quot;Courier New&quot;,Courier,monospace\">        ┌────┐\n",
       "q_0: |0>┤ Id ├\n",
       "        ├────┤\n",
       "q_1: |0>┤ Id ├\n",
       "        ├────┤\n",
       "q_2: |0>┤ Id ├\n",
       "        └────┘\n",
       " c_0: 0 ══════\n",
       "              \n",
       " c_1: 0 ══════\n",
       "              \n",
       " c_2: 0 ══════\n",
       "              </pre>"
      ],
      "text/plain": [
       "<qiskit.visualization.text.TextDrawing at 0x123b9e6d8>"
      ]
     },
     "execution_count": 13,
     "metadata": {},
     "output_type": "execute_result"
    }
   ],
   "source": [
    "circuit = QuantumCircuit.from_qasm_str(qasm_str)\n",
    "circuit.draw()"
   ]
  },
  {
   "cell_type": "markdown",
   "metadata": {},
   "source": [
    "## Add gates"
   ]
  },
  {
   "cell_type": "code",
   "execution_count": 14,
   "metadata": {},
   "outputs": [
    {
     "name": "stdout",
     "output_type": "stream",
     "text": [
      "add r\n"
     ]
    }
   ],
   "source": [
    "x_gate = CircuitGridNode(node_types.X, 1)\n",
    "h_gate = CircuitGridNode(node_types.H, 1)\n",
    "cx_gate = CircuitGridNode(node_types.CX, 1, ctrl_a=0)"
   ]
  },
  {
   "cell_type": "code",
   "execution_count": 15,
   "metadata": {},
   "outputs": [],
   "source": [
    "circuit_grid_model.set_node(1,1,x_gate)\n",
    "circuit_grid_model.set_node(2,1,h_gate)\n",
    "circuit_grid_model.set_node(2,2,cx_gate)"
   ]
  },
  {
   "cell_type": "code",
   "execution_count": 16,
   "metadata": {},
   "outputs": [
    {
     "name": "stdout",
     "output_type": "stream",
     "text": [
      "OPENQASM 2.0;include \"qelib1.inc\";qreg q[3];creg c[3];id q;rx(0) q[1];h q[2];cx q[0],q[2];\n"
     ]
    }
   ],
   "source": [
    "qasm_str = circuit_grid_model.create_qasm_for_circuit()\n",
    "print(qasm_str)"
   ]
  },
  {
   "cell_type": "code",
   "execution_count": 17,
   "metadata": {},
   "outputs": [
    {
     "data": {
      "text/html": [
       "<pre style=\"word-wrap: normal;white-space: pre;background: #fff0;line-height: 1.1;font-family: &quot;Courier New&quot;,Courier,monospace\">        ┌────┐              \n",
       "q_0: |0>┤ Id ├───────────■──\n",
       "        ├────┤┌───────┐  │  \n",
       "q_1: |0>┤ Id ├┤ Rx(0) ├──┼──\n",
       "        ├────┤└─┬───┬─┘┌─┴─┐\n",
       "q_2: |0>┤ Id ├──┤ H ├──┤ X ├\n",
       "        └────┘  └───┘  └───┘\n",
       " c_0: 0 ════════════════════\n",
       "                            \n",
       " c_1: 0 ════════════════════\n",
       "                            \n",
       " c_2: 0 ════════════════════\n",
       "                            </pre>"
      ],
      "text/plain": [
       "<qiskit.visualization.text.TextDrawing at 0x123cb50f0>"
      ]
     },
     "execution_count": 17,
     "metadata": {},
     "output_type": "execute_result"
    }
   ],
   "source": [
    "circuit = QuantumCircuit.from_qasm_str(qasm_str)\n",
    "circuit.draw()"
   ]
  },
  {
   "cell_type": "markdown",
   "metadata": {},
   "source": [
    "## Visualization"
   ]
  },
  {
   "cell_type": "code",
   "execution_count": 24,
   "metadata": {},
   "outputs": [],
   "source": [
    "from qiskit import BasicAer, execute, ClassicalRegister"
   ]
  },
  {
   "cell_type": "code",
   "execution_count": 59,
   "metadata": {},
   "outputs": [],
   "source": [
    "def paddle_before_measurement(circuit, qubit_num, shot_num):\n",
    "        backend_sv_sim = BasicAer.get_backend('statevector_simulator')\n",
    "        job_sim = execute(circuit, backend_sv_sim, shots=shot_num)\n",
    "        result_sim = job_sim.result()\n",
    "        state = result_sim.get_statevector(circuit, decimals=3)\n",
    "        probability = (state*state).real\n",
    "        return probability"
   ]
  },
  {
   "cell_type": "code",
   "execution_count": 128,
   "metadata": {},
   "outputs": [
    {
     "name": "stdout",
     "output_type": "stream",
     "text": [
      "[0.499849 0.       0.       0.       0.499849 0.       0.       0.      ]\n"
     ]
    }
   ],
   "source": [
    "probability = paddle_before_measurement(circuit, 3, 1000)\n",
    "print(probability)"
   ]
  },
  {
   "cell_type": "code",
   "execution_count": 127,
   "metadata": {},
   "outputs": [
    {
     "data": {
      "image/png": "[encoded data removed]",
      "text/plain": [
       "<Figure size 1440x72 with 1 Axes>"
      ]
     },
     "metadata": {
      "needs_background": "light"
     },
     "output_type": "display_data"
    }
   ],
   "source": [
    "from matplotlib import pyplot as plt\n",
    "from matplotlib.patches import Rectangle\n",
    "plt.figure(figsize=(20,1))\n",
    "ax = plt.gca()\n",
    "for i in range(8):\n",
    "    ax.add_patch(Rectangle((i/8, 0), 1/8, 1, alpha=probability[i]+0.1, ec='k'))\n",
    "\n",
    "ax.text(0/8+1/40,-1,r\"$\\left|000\\right\\rangle$\", fontsize=36)\n",
    "ax.text(1/8+1/40,-1,r\"$\\left|001\\right\\rangle$\", fontsize=36)\n",
    "ax.text(2/8+1/40,-1,r\"$\\left|010\\right\\rangle$\", fontsize=36)\n",
    "ax.text(3/8+1/40,-1,r\"$\\left|011\\right\\rangle$\", fontsize=36)\n",
    "ax.text(4/8+1/40,-1,r\"$\\left|100\\right\\rangle$\", fontsize=36)\n",
    "ax.text(5/8+1/40,-1,r\"$\\left|101\\right\\rangle$\", fontsize=36)\n",
    "ax.text(6/8+1/40,-1,r\"$\\left|110\\right\\rangle$\", fontsize=36)\n",
    "ax.text(7/8+1/40,-1,r\"$\\left|110\\right\\rangle$\", fontsize=36)\n",
    "plt.axis('off')\n",
    "plt.show()"
   ]
  }
 ],
 "metadata": {
  "kernelspec": {
   "display_name": "Python 3",
   "language": "python",
   "name": "python3"
  },
  "language_info": {
   "codemirror_mode": {
    "name": "ipython",
    "version": 3
   },
   "file_extension": ".py",
   "mimetype": "text/x-python",
   "name": "python",
   "nbconvert_exporter": "python",
   "pygments_lexer": "ipython3",
   "version": "3.7.3"
  }
 },
 "nbformat": 4,
 "nbformat_minor": 2
}
