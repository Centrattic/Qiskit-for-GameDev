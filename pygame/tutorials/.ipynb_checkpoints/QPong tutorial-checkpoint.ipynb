{
 "cells": [
  {
   "cell_type": "markdown",
   "metadata": {},
   "source": [
    "# QPong tutorial\n",
    "In this tutorial, you will learn how to make the core features of QPong."
   ]
  },
  {
   "cell_type": "markdown",
   "metadata": {},
   "source": [
    "## Import pakcages"
   ]
  },
  {
   "cell_type": "code",
   "execution_count": 1,
   "metadata": {},
   "outputs": [],
   "source": [
    "import sys\n",
    "sys.path.append('/Users/kirais/Documents/GitHub/Qiskit-for-GameDev/pygame/')"
   ]
  },
  {
   "cell_type": "code",
   "execution_count": 2,
   "metadata": {},
   "outputs": [
    {
     "name": "stdout",
     "output_type": "stream",
     "text": [
      "pygame 1.9.4\n",
      "Hello from the pygame community. https://www.pygame.org/contribute.html\n"
     ]
    }
   ],
   "source": [
    "from qgame import CircuitGridModel, CircuitGridNode, MeasurementsHistogram\n",
    "from qgame import circuit_node_types as node_types"
   ]
  },
  {
   "cell_type": "code",
   "execution_count": 3,
   "metadata": {},
   "outputs": [],
   "source": [
    "from qiskit import QuantumCircuit"
   ]
  },
  {
   "cell_type": "markdown",
   "metadata": {},
   "source": [
    "## Initialize circuit grid"
   ]
  },
  {
   "cell_type": "code",
   "execution_count": 4,
   "metadata": {},
   "outputs": [
    {
     "name": "stdout",
     "output_type": "stream",
     "text": [
      "CircuitGridModel: \n",
      "e, e, e, e, e, e, \n",
      "e, e, e, e, e, e, \n",
      "e, e, e, e, e, e, \n",
      "e, e, e, e, e, e, \n"
     ]
    }
   ],
   "source": [
    "circuit_grid_model = CircuitGridModel(4, 6)\n",
    "print(circuit_grid_model)"
   ]
  },
  {
   "cell_type": "code",
   "execution_count": 5,
   "metadata": {},
   "outputs": [
    {
     "name": "stdout",
     "output_type": "stream",
     "text": [
      "OPENQASM 2.0;include \"qelib1.inc\";qreg q[4];creg c[4];id q;\n"
     ]
    }
   ],
   "source": [
    "qasm_str = circuit_grid_model.create_qasm_for_circuit()\n",
    "print(qasm_str)"
   ]
  },
  {
   "cell_type": "code",
   "execution_count": 6,
   "metadata": {},
   "outputs": [
    {
     "data": {
      "text/html": [
       "<pre style=\"word-wrap: normal;white-space: pre;background: #fff0;line-height: 1.1;font-family: &quot;Courier New&quot;,Courier,monospace\">        ┌────┐\n",
       "q_0: |0>┤ Id ├\n",
       "        ├────┤\n",
       "q_1: |0>┤ Id ├\n",
       "        ├────┤\n",
       "q_2: |0>┤ Id ├\n",
       "        ├────┤\n",
       "q_3: |0>┤ Id ├\n",
       "        └────┘\n",
       " c_0: 0 ══════\n",
       "              \n",
       " c_1: 0 ══════\n",
       "              \n",
       " c_2: 0 ══════\n",
       "              \n",
       " c_3: 0 ══════\n",
       "              </pre>"
      ],
      "text/plain": [
       "<qiskit.visualization.text.TextDrawing at 0x12374a208>"
      ]
     },
     "execution_count": 6,
     "metadata": {},
     "output_type": "execute_result"
    }
   ],
   "source": [
    "circuit = QuantumCircuit.from_qasm_str(qasm_str)\n",
    "circuit.draw()"
   ]
  },
  {
   "cell_type": "markdown",
   "metadata": {},
   "source": [
    "## Add gates"
   ]
  },
  {
   "cell_type": "code",
   "execution_count": 15,
   "metadata": {},
   "outputs": [
    {
     "name": "stdout",
     "output_type": "stream",
     "text": [
      "add r\n"
     ]
    }
   ],
   "source": [
    "x_gate = CircuitGridNode(node_types.X, 1)\n",
    "h_gate = CircuitGridNode(node_types.H, 1)\n",
    "cx_gate = CircuitGridNode(node_types.CX, 1, ctrl_a=0)"
   ]
  },
  {
   "cell_type": "code",
   "execution_count": 17,
   "metadata": {},
   "outputs": [],
   "source": [
    "circuit_grid_model.set_node(1,1,x_gate)\n",
    "circuit_grid_model.set_node(2,1,h_gate)\n",
    "circuit_grid_model.set_node(2,2,cx_gate)"
   ]
  },
  {
   "cell_type": "code",
   "execution_count": 20,
   "metadata": {},
   "outputs": [
    {
     "name": "stdout",
     "output_type": "stream",
     "text": [
      "OPENQASM 2.0;include \"qelib1.inc\";qreg q[4];creg c[4];id q;rx(0) q[1];h q[2];cx q[0],q[2];\n"
     ]
    }
   ],
   "source": [
    "qasm_str = circuit_grid_model.create_qasm_for_circuit()\n",
    "print(qasm_str)"
   ]
  },
  {
   "cell_type": "code",
   "execution_count": 22,
   "metadata": {},
   "outputs": [
    {
     "data": {
      "text/html": [
       "<pre style=\"word-wrap: normal;white-space: pre;background: #fff0;line-height: 1.1;font-family: &quot;Courier New&quot;,Courier,monospace\">        ┌────┐              \n",
       "q_0: |0>┤ Id ├───────────■──\n",
       "        ├────┤┌───────┐  │  \n",
       "q_1: |0>┤ Id ├┤ Rx(0) ├──┼──\n",
       "        ├────┤└─┬───┬─┘┌─┴─┐\n",
       "q_2: |0>┤ Id ├──┤ H ├──┤ X ├\n",
       "        ├────┤  └───┘  └───┘\n",
       "q_3: |0>┤ Id ├──────────────\n",
       "        └────┘              \n",
       " c_0: 0 ════════════════════\n",
       "                            \n",
       " c_1: 0 ════════════════════\n",
       "                            \n",
       " c_2: 0 ════════════════════\n",
       "                            \n",
       " c_3: 0 ════════════════════\n",
       "                            </pre>"
      ],
      "text/plain": [
       "<qiskit.visualization.text.TextDrawing at 0x11dc99a90>"
      ]
     },
     "execution_count": 22,
     "metadata": {},
     "output_type": "execute_result"
    }
   ],
   "source": [
    "circuit = QuantumCircuit.from_qasm_str(qasm_str)\n",
    "circuit.draw()"
   ]
  },
  {
   "cell_type": "code",
   "execution_count": 7,
   "metadata": {},
   "outputs": [],
   "source": [
    "class StatevectorGrid():\n",
    "    \"\"\"Displays a statevector grid\"\"\"\n",
    "    def __init__(self, circuit, qubit_num, num_shots):\n",
    "        pygame.sprite.Sprite.__init__(self)\n",
    "        self.image = None\n",
    "        self.rect = None\n",
    "        self.ball = Ball()\n",
    "        self.basis_states = comp_basis_states(circuit.width())\n",
    "        self.circuit = circuit\n",
    "        self.paddle_before_measurement(circuit, qubit_num, num_shots)\n",
    "\n",
    "    def display_statevector(self, qubit_num):\n",
    "        for y in range(2**qubit_num):\n",
    "            text = VECTOR_FONT.render(\"|\"+self.basis_states[y]+\">\", 1, WHITE)\n",
    "            text_height = text.get_height()\n",
    "            y_offset = self.block_size * 0.5 - text_height * 0.5\n",
    "            self.image.blit(text, (2 * WIDTH_UNIT, y * self.block_size + y_offset))\n",
    "\n",
    "    def paddle_before_measurement(self, circuit, qubit_num, shot_num):\n",
    "        self.update()\n",
    "        self.display_statevector(qubit_num)\n",
    "\n",
    "        backend_sv_sim = BasicAer.get_backend('statevector_simulator')\n",
    "        job_sim = execute(circuit, backend_sv_sim, shots=shot_num)\n",
    "        result_sim = job_sim.result()\n",
    "        quantum_state = result_sim.get_statevector(circuit, decimals=3)\n",
    "        return quantum_state\n",
    "\n",
    "    def paddle_after_measurement(self, circuit, qubit_num, shot_num):\n",
    "        self.update()\n",
    "        self.display_statevector(qubit_num)\n",
    "\n",
    "        backend_sv_sim = BasicAer.get_backend('qasm_simulator')\n",
    "        cr = ClassicalRegister(qubit_num)\n",
    "        measure_circuit = deepcopy(circuit)  # make a copy of circuit\n",
    "        measure_circuit.add_register(cr)    # add classical registers for measurement readout\n",
    "        measure_circuit.measure(measure_circuit.qregs[0], measure_circuit.cregs[0])\n",
    "        job_sim = execute(measure_circuit, backend_sv_sim, shots=shot_num)\n",
    "        result_sim = job_sim.result()\n",
    "        counts = result_sim.get_counts(circuit)\n",
    "\n",
    "        self.paddle.set_alpha(255)\n",
    "        self.image.blit(self.paddle, (0, int(list(counts.keys())[0], 2) * self.block_size))\n",
    "\n",
    "        return int(list(counts.keys())[0], 2)"
   ]
  },
  {
   "cell_type": "code",
   "execution_count": null,
   "metadata": {},
   "outputs": [],
   "source": []
  }
 ],
 "metadata": {
  "kernelspec": {
   "display_name": "Python 3",
   "language": "python",
   "name": "python3"
  },
  "language_info": {
   "codemirror_mode": {
    "name": "ipython",
    "version": 3
   },
   "file_extension": ".py",
   "mimetype": "text/x-python",
   "name": "python",
   "nbconvert_exporter": "python",
   "pygments_lexer": "ipython3",
   "version": "3.7.3"
  }
 },
 "nbformat": 4,
 "nbformat_minor": 2
}
